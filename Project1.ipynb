{
 "cells": [
  {
   "cell_type": "markdown",
   "id": "86972998",
   "metadata": {},
   "source": [
    "### Problem Statement\n",
    "\n"
   ]
  },
  {
   "cell_type": "markdown",
   "id": "9ec790f8",
   "metadata": {},
   "source": [
    "### Importing Libraries and Loading Dataset"
   ]
  },
  {
   "cell_type": "code",
   "execution_count": 7,
   "id": "980aa1bc",
   "metadata": {},
   "outputs": [],
   "source": [
    "import numpy as np\n",
    "import pandas as pd\n",
    "import matplotlib.pyplot as plt\n"
   ]
  },
  {
   "cell_type": "code",
   "execution_count": 8,
   "id": "4d735275",
   "metadata": {},
   "outputs": [
    {
     "data": {
      "text/html": [
       "<div>\n",
       "<style scoped>\n",
       "    .dataframe tbody tr th:only-of-type {\n",
       "        vertical-align: middle;\n",
       "    }\n",
       "\n",
       "    .dataframe tbody tr th {\n",
       "        vertical-align: top;\n",
       "    }\n",
       "\n",
       "    .dataframe thead th {\n",
       "        text-align: right;\n",
       "    }\n",
       "</style>\n",
       "<table border=\"1\" class=\"dataframe\">\n",
       "  <thead>\n",
       "    <tr style=\"text-align: right;\">\n",
       "      <th></th>\n",
       "      <th>address</th>\n",
       "      <th>no_of_Bedrooms</th>\n",
       "      <th>no_of_Bathrooms</th>\n",
       "      <th>SqFt</th>\n",
       "      <th>Year Built</th>\n",
       "      <th>parking</th>\n",
       "      <th>Heating</th>\n",
       "      <th>Cooling</th>\n",
       "      <th>assessment</th>\n",
       "      <th>price</th>\n",
       "      <th>...</th>\n",
       "      <th>Lot_Info</th>\n",
       "      <th>Days_on_Market</th>\n",
       "      <th>Property_Type</th>\n",
       "      <th>Tax_Year</th>\n",
       "      <th>Tax_Amount</th>\n",
       "      <th>Image</th>\n",
       "      <th>HOA</th>\n",
       "      <th>Agent_Compensation</th>\n",
       "      <th>Review</th>\n",
       "      <th>More_Reviews</th>\n",
       "    </tr>\n",
       "  </thead>\n",
       "  <tbody>\n",
       "    <tr>\n",
       "      <th>0</th>\n",
       "      <td>390 San Antonio Ave #13San Diego, CA 92106La P...</td>\n",
       "      <td>2 Beds</td>\n",
       "      <td>2 Baths</td>\n",
       "      <td>1,275 sqft</td>\n",
       "      <td>1965</td>\n",
       "      <td>No Info</td>\n",
       "      <td>No Info</td>\n",
       "      <td>No Info</td>\n",
       "      <td>$901,600</td>\n",
       "      <td>$345,000</td>\n",
       "      <td>...</td>\n",
       "      <td>NaN</td>\n",
       "      <td>Days on Market: 44</td>\n",
       "      <td>Property Type: ResidentialProperty Subtype: Co...</td>\n",
       "      <td>2021.0</td>\n",
       "      <td>NaN</td>\n",
       "      <td>https://www.trulia.com/pictures/thumbs_5/zillo...</td>\n",
       "      <td>None</td>\n",
       "      <td>NaN</td>\n",
       "      <td>1/4 Share Ownership Opportunity (up to 3 quart...</td>\n",
       "      <td>At least 16 Trulia users voted on each feature...</td>\n",
       "    </tr>\n",
       "    <tr>\n",
       "      <th>1</th>\n",
       "      <td>3988 Mount Everest BlvdSan Diego, CA 92111Clai...</td>\n",
       "      <td>3 Beds</td>\n",
       "      <td>2 Baths</td>\n",
       "      <td>1,068 sqft</td>\n",
       "      <td>Year Built: 1959</td>\n",
       "      <td>2 Car Garage</td>\n",
       "      <td>NaN</td>\n",
       "      <td>NaN</td>\n",
       "      <td>$555,697</td>\n",
       "      <td>$888,000</td>\n",
       "      <td>...</td>\n",
       "      <td>6000 Square Feet</td>\n",
       "      <td>Days on Market: 4</td>\n",
       "      <td>Property Type: ResidentialProperty Subtype: De...</td>\n",
       "      <td>2021.0</td>\n",
       "      <td>NaN</td>\n",
       "      <td>https://www.trulia.com/pictures/thumbs_5/zillo...</td>\n",
       "      <td>None</td>\n",
       "      <td>2.0</td>\n",
       "      <td>Beautifully tailored remodel located on the so...</td>\n",
       "      <td>At least 39 Trulia users voted on each feature...</td>\n",
       "    </tr>\n",
       "    <tr>\n",
       "      <th>2</th>\n",
       "      <td>277 Deerock PlSan Diego, CA 92114Skyline</td>\n",
       "      <td>3 Beds</td>\n",
       "      <td>2 Baths</td>\n",
       "      <td>1,180 sqft</td>\n",
       "      <td>1962</td>\n",
       "      <td>2 Car Garage</td>\n",
       "      <td>Yes</td>\n",
       "      <td>Yes</td>\n",
       "      <td>$53,510</td>\n",
       "      <td>$598,900</td>\n",
       "      <td>...</td>\n",
       "      <td>9600 Square Feet</td>\n",
       "      <td>Days on Market: 2</td>\n",
       "      <td>Property Type: ResidentialProperty Subtype: De...</td>\n",
       "      <td>2021.0</td>\n",
       "      <td>NaN</td>\n",
       "      <td>https://www.trulia.com/pictures/thumbs_5/zillo...</td>\n",
       "      <td>None</td>\n",
       "      <td>2.5</td>\n",
       "      <td>Beautiful Views of the City, Huge Lot!!!!! Min...</td>\n",
       "      <td>At least 31 Trulia users voted on each feature...</td>\n",
       "    </tr>\n",
       "    <tr>\n",
       "      <th>3</th>\n",
       "      <td>8548 Hopseed LnSan Diego, CA 92129Rancho Penas...</td>\n",
       "      <td>5 Beds</td>\n",
       "      <td>4 Baths</td>\n",
       "      <td>2,710 sqft</td>\n",
       "      <td>1992</td>\n",
       "      <td>3 Car Garage</td>\n",
       "      <td>Yes</td>\n",
       "      <td>Yes</td>\n",
       "      <td>$1,000,000</td>\n",
       "      <td>$1,549,900</td>\n",
       "      <td>...</td>\n",
       "      <td>6602 Square Feet</td>\n",
       "      <td>Days on Market: 2</td>\n",
       "      <td>Property Type: ResidentialProperty Subtype: De...</td>\n",
       "      <td>2021.0</td>\n",
       "      <td>NaN</td>\n",
       "      <td>https://www.trulia.com/pictures/thumbs_5/zillo...</td>\n",
       "      <td>None</td>\n",
       "      <td>2.5</td>\n",
       "      <td>Welcome to Park Village and this rare 5 bed, 4...</td>\n",
       "      <td>At least 243 Trulia users voted on each featur...</td>\n",
       "    </tr>\n",
       "    <tr>\n",
       "      <th>4</th>\n",
       "      <td>3906 C StSan Diego, CA 92102Mt. Hope</td>\n",
       "      <td>3 Beds</td>\n",
       "      <td>2 Baths</td>\n",
       "      <td>912 sqft</td>\n",
       "      <td>Year Built: 1957</td>\n",
       "      <td>Open Parking</td>\n",
       "      <td>NaN</td>\n",
       "      <td>NaN</td>\n",
       "      <td>$119,554</td>\n",
       "      <td>$549,000</td>\n",
       "      <td>...</td>\n",
       "      <td>4309 Square Feet</td>\n",
       "      <td>Days on Market: 3</td>\n",
       "      <td>Property Type: ResidentialProperty Subtype: De...</td>\n",
       "      <td>2021.0</td>\n",
       "      <td>NaN</td>\n",
       "      <td>https://www.trulia.com/pictures/thumbs_5/zillo...</td>\n",
       "      <td>None</td>\n",
       "      <td>2.5</td>\n",
       "      <td>Welcome home! Private 3 bedroom 2 bathroom on ...</td>\n",
       "      <td>At least 16 Trulia users voted on each feature...</td>\n",
       "    </tr>\n",
       "  </tbody>\n",
       "</table>\n",
       "<p>5 rows × 39 columns</p>\n",
       "</div>"
      ],
      "text/plain": [
       "                                             address no_of_Bedrooms  \\\n",
       "0  390 San Antonio Ave #13San Diego, CA 92106La P...         2 Beds   \n",
       "1  3988 Mount Everest BlvdSan Diego, CA 92111Clai...         3 Beds   \n",
       "2           277 Deerock PlSan Diego, CA 92114Skyline         3 Beds   \n",
       "3  8548 Hopseed LnSan Diego, CA 92129Rancho Penas...         5 Beds   \n",
       "4               3906 C StSan Diego, CA 92102Mt. Hope         3 Beds   \n",
       "\n",
       "  no_of_Bathrooms        SqFt        Year Built       parking  Heating  \\\n",
       "0         2 Baths  1,275 sqft              1965       No Info  No Info   \n",
       "1         2 Baths  1,068 sqft  Year Built: 1959  2 Car Garage      NaN   \n",
       "2         2 Baths  1,180 sqft              1962  2 Car Garage      Yes   \n",
       "3         4 Baths  2,710 sqft              1992  3 Car Garage      Yes   \n",
       "4         2 Baths    912 sqft  Year Built: 1957  Open Parking      NaN   \n",
       "\n",
       "   Cooling  assessment       price  ...          Lot_Info      Days_on_Market  \\\n",
       "0  No Info    $901,600    $345,000  ...               NaN  Days on Market: 44   \n",
       "1      NaN    $555,697    $888,000  ...  6000 Square Feet   Days on Market: 4   \n",
       "2      Yes     $53,510    $598,900  ...  9600 Square Feet   Days on Market: 2   \n",
       "3      Yes  $1,000,000  $1,549,900  ...  6602 Square Feet   Days on Market: 2   \n",
       "4      NaN    $119,554    $549,000  ...  4309 Square Feet   Days on Market: 3   \n",
       "\n",
       "                                       Property_Type Tax_Year Tax_Amount  \\\n",
       "0  Property Type: ResidentialProperty Subtype: Co...   2021.0        NaN   \n",
       "1  Property Type: ResidentialProperty Subtype: De...   2021.0        NaN   \n",
       "2  Property Type: ResidentialProperty Subtype: De...   2021.0        NaN   \n",
       "3  Property Type: ResidentialProperty Subtype: De...   2021.0        NaN   \n",
       "4  Property Type: ResidentialProperty Subtype: De...   2021.0        NaN   \n",
       "\n",
       "                                               Image   HOA Agent_Compensation  \\\n",
       "0  https://www.trulia.com/pictures/thumbs_5/zillo...  None                NaN   \n",
       "1  https://www.trulia.com/pictures/thumbs_5/zillo...  None                2.0   \n",
       "2  https://www.trulia.com/pictures/thumbs_5/zillo...  None                2.5   \n",
       "3  https://www.trulia.com/pictures/thumbs_5/zillo...  None                2.5   \n",
       "4  https://www.trulia.com/pictures/thumbs_5/zillo...  None                2.5   \n",
       "\n",
       "                                              Review  \\\n",
       "0  1/4 Share Ownership Opportunity (up to 3 quart...   \n",
       "1  Beautifully tailored remodel located on the so...   \n",
       "2  Beautiful Views of the City, Huge Lot!!!!! Min...   \n",
       "3  Welcome to Park Village and this rare 5 bed, 4...   \n",
       "4  Welcome home! Private 3 bedroom 2 bathroom on ...   \n",
       "\n",
       "                                        More_Reviews  \n",
       "0  At least 16 Trulia users voted on each feature...  \n",
       "1  At least 39 Trulia users voted on each feature...  \n",
       "2  At least 31 Trulia users voted on each feature...  \n",
       "3  At least 243 Trulia users voted on each featur...  \n",
       "4  At least 16 Trulia users voted on each feature...  \n",
       "\n",
       "[5 rows x 39 columns]"
      ]
     },
     "execution_count": 8,
     "metadata": {},
     "output_type": "execute_result"
    }
   ],
   "source": [
    "My_df = pd.read_csv('trulia_san_diego_ca.csv')\n",
    "My_df.head()"
   ]
  },
  {
   "cell_type": "markdown",
   "id": "7ae4eccd",
   "metadata": {},
   "source": [
    "### Shape of the Dataset"
   ]
  },
  {
   "cell_type": "code",
   "execution_count": 9,
   "id": "f4b54fb8",
   "metadata": {},
   "outputs": [],
   "source": [
    "rows, cols = My_df.shape #unpacking in order to get it printed in that f-string format"
   ]
  },
  {
   "cell_type": "code",
   "execution_count": 10,
   "id": "e9cbee73",
   "metadata": {},
   "outputs": [
    {
     "name": "stdout",
     "output_type": "stream",
     "text": [
      "We have 1242 rows and 39 columns on this dataset\n"
     ]
    }
   ],
   "source": [
    "print(f'We have {rows} rows and {cols} columns on this dataset')"
   ]
  },
  {
   "cell_type": "markdown",
   "id": "7ec24fbd",
   "metadata": {},
   "source": [
    "### Analising the Dataset to identify the following:\n",
    "\n",
    "- Missing Values\n",
    "- Numerical Variable\n",
    "- Distribution of Numerical Variables\n",
    "- Outliers\n",
    "- Categorical Variables\n",
    "- Cardinality of the categorical variable\n",
    "- Potential relationship between the variable and the target Salesprice"
   ]
  },
  {
   "cell_type": "markdown",
   "id": "28ae46a8",
   "metadata": {},
   "source": [
    "## Checking the sum of the missing values for all the columns"
   ]
  },
  {
   "cell_type": "code",
   "execution_count": 14,
   "id": "0116e5ae",
   "metadata": {
    "scrolled": false
   },
   "outputs": [
    {
     "data": {
      "text/plain": [
       "address                                0\n",
       "no_of_Bedrooms                        94\n",
       "no_of_Bathrooms                      102\n",
       "SqFt                                 115\n",
       "Year Built                            45\n",
       "parking                                0\n",
       "Heating                              594\n",
       "Cooling                              594\n",
       "assessment                           282\n",
       "price                                  4\n",
       "Price Trend                            0\n",
       "Price/SqFt                             1\n",
       "Estimated_Mortgage                     1\n",
       "Appliances_and_Utilities              74\n",
       "Fireplace_and_Spa                    405\n",
       "Levels_Enrance_and_Accessibility     128\n",
       "Interior_details                     470\n",
       "Exterior Features                     83\n",
       "Beds_and_Baths                       193\n",
       "Dimensions_and_Layout                224\n",
       "Heating_and_Cooling                  162\n",
       "Pool                                 442\n",
       "Security                             994\n",
       "Windows_Doors_Floor_Walls            633\n",
       "Parking_and_Garage                   137\n",
       "Surface_and_Elevation                388\n",
       "Building                             182\n",
       "Satus                                 95\n",
       "Location                             362\n",
       "Lot_Info                             440\n",
       "Days_on_Market                        37\n",
       "Property_Type                          0\n",
       "Tax_Year                             271\n",
       "Tax_Amount                          1238\n",
       "Image                                  0\n",
       "HOA                                    0\n",
       "Agent_Compensation                   459\n",
       "Review                                 0\n",
       "More_Reviews                          10\n",
       "dtype: int64"
      ]
     },
     "execution_count": 14,
     "metadata": {},
     "output_type": "execute_result"
    }
   ],
   "source": [
    "Mis_val = My_df.isnull().sum()\n",
    "Mis_val"
   ]
  },
  {
   "cell_type": "markdown",
   "id": "b0ac17f3",
   "metadata": {},
   "source": [
    "## For only columns with missing values\n",
    "\n",
    "#### We use the below line of code"
   ]
  },
  {
   "cell_type": "code",
   "execution_count": 24,
   "id": "13e50814",
   "metadata": {
    "scrolled": true
   },
   "outputs": [
    {
     "data": {
      "text/plain": [
       "address          0\n",
       "parking          0\n",
       "Price Trend      0\n",
       "Property_Type    0\n",
       "Image            0\n",
       "HOA              0\n",
       "Review           0\n",
       "dtype: int64"
      ]
     },
     "execution_count": 24,
     "metadata": {},
     "output_type": "execute_result"
    }
   ],
   "source": [
    "Mis_val = [i for i in My_df.columns if My_df[i].isnull().sum()>0]\n",
    "My_df[mis_val].isnull().sum()"
   ]
  },
  {
   "cell_type": "markdown",
   "id": "1718a3d0",
   "metadata": {},
   "source": [
    "## Explaining the line of code above by splitting"
   ]
  },
  {
   "cell_type": "code",
   "execution_count": 25,
   "id": "b7ce5214",
   "metadata": {},
   "outputs": [],
   "source": [
    "mis_val = []\n",
    "for i in My_df.columns:\n",
    "    if My_df[i].isnull().sum() > 0: \n",
    "           mis_val.append(i)"
   ]
  },
  {
   "cell_type": "code",
   "execution_count": 26,
   "id": "335c6a22",
   "metadata": {},
   "outputs": [
    {
     "data": {
      "text/plain": [
       "['no_of_Bedrooms',\n",
       " 'no_of_Bathrooms',\n",
       " 'SqFt',\n",
       " 'Year Built',\n",
       " 'Heating',\n",
       " 'Cooling',\n",
       " 'assessment',\n",
       " 'price',\n",
       " 'Price/SqFt',\n",
       " 'Estimated_Mortgage',\n",
       " 'Appliances_and_Utilities',\n",
       " 'Fireplace_and_Spa',\n",
       " 'Levels_Enrance_and_Accessibility',\n",
       " 'Interior_details',\n",
       " 'Exterior Features',\n",
       " 'Beds_and_Baths',\n",
       " 'Dimensions_and_Layout',\n",
       " 'Heating_and_Cooling',\n",
       " 'Pool',\n",
       " 'Security',\n",
       " 'Windows_Doors_Floor_Walls',\n",
       " 'Parking_and_Garage',\n",
       " 'Surface_and_Elevation',\n",
       " 'Building',\n",
       " 'Satus',\n",
       " 'Location',\n",
       " 'Lot_Info',\n",
       " 'Days_on_Market',\n",
       " 'Tax_Year',\n",
       " 'Tax_Amount',\n",
       " 'Agent_Compensation',\n",
       " 'More_Reviews']"
      ]
     },
     "execution_count": 26,
     "metadata": {},
     "output_type": "execute_result"
    }
   ],
   "source": [
    "mis_val"
   ]
  },
  {
   "cell_type": "code",
   "execution_count": 27,
   "id": "e70432db",
   "metadata": {},
   "outputs": [
    {
     "data": {
      "text/plain": [
       "no_of_Bedrooms                        94\n",
       "no_of_Bathrooms                      102\n",
       "SqFt                                 115\n",
       "Year Built                            45\n",
       "Heating                              594\n",
       "Cooling                              594\n",
       "assessment                           282\n",
       "price                                  4\n",
       "Price/SqFt                             1\n",
       "Estimated_Mortgage                     1\n",
       "Appliances_and_Utilities              74\n",
       "Fireplace_and_Spa                    405\n",
       "Levels_Enrance_and_Accessibility     128\n",
       "Interior_details                     470\n",
       "Exterior Features                     83\n",
       "Beds_and_Baths                       193\n",
       "Dimensions_and_Layout                224\n",
       "Heating_and_Cooling                  162\n",
       "Pool                                 442\n",
       "Security                             994\n",
       "Windows_Doors_Floor_Walls            633\n",
       "Parking_and_Garage                   137\n",
       "Surface_and_Elevation                388\n",
       "Building                             182\n",
       "Satus                                 95\n",
       "Location                             362\n",
       "Lot_Info                             440\n",
       "Days_on_Market                        37\n",
       "Tax_Year                             271\n",
       "Tax_Amount                          1238\n",
       "Agent_Compensation                   459\n",
       "More_Reviews                          10\n",
       "dtype: int64"
      ]
     },
     "execution_count": 27,
     "metadata": {},
     "output_type": "execute_result"
    }
   ],
   "source": [
    "My_df[mis_val].isnull().sum()"
   ]
  },
  {
   "cell_type": "code",
   "execution_count": null,
   "id": "e3c4748f",
   "metadata": {},
   "outputs": [],
   "source": [
    "My_df['Tax_Amount'].unique() #checking the unique value to decide what can be done to the feature"
   ]
  },
  {
   "cell_type": "markdown",
   "id": "ab876431",
   "metadata": {},
   "source": [
    "## Dataset information"
   ]
  },
  {
   "cell_type": "code",
   "execution_count": null,
   "id": "8c00284a",
   "metadata": {
    "scrolled": true
   },
   "outputs": [],
   "source": [
    "My_df.columns"
   ]
  },
  {
   "cell_type": "code",
   "execution_count": null,
   "id": "ec5c7f14",
   "metadata": {
    "scrolled": true
   },
   "outputs": [],
   "source": [
    "My_df.info() #This goes a long way in showing the datatype we have in the features"
   ]
  },
  {
   "cell_type": "code",
   "execution_count": null,
   "id": "2b17ba20",
   "metadata": {
    "scrolled": true
   },
   "outputs": [],
   "source": [
    "My_df.describe() #This show us the various propeties of the numerical data present in the dataframe"
   ]
  },
  {
   "cell_type": "markdown",
   "id": "a637f1c5",
   "metadata": {},
   "source": [
    "### Drop Tax_Amount\n",
    "\n",
    "#### From the observation derived after checking for missing values in features, we discovered that Tax_Amount column has a large number of missing values so we decided to drop it."
   ]
  },
  {
   "cell_type": "code",
   "execution_count": null,
   "id": "d84649e5",
   "metadata": {},
   "outputs": [],
   "source": [
    "new = My_df.drop(['Tax_Amount'],axis = 1) #new is the variable name we asigned the line of code to"
   ]
  },
  {
   "cell_type": "markdown",
   "id": "c2921518",
   "metadata": {},
   "source": [
    "### Confirm the Shape"
   ]
  },
  {
   "cell_type": "code",
   "execution_count": null,
   "id": "08732f26",
   "metadata": {},
   "outputs": [],
   "source": [
    "new.shape"
   ]
  },
  {
   "cell_type": "markdown",
   "id": "73727f79",
   "metadata": {},
   "source": [
    "## Checking for Numerical Values"
   ]
  },
  {
   "cell_type": "code",
   "execution_count": 35,
   "id": "7b430064",
   "metadata": {},
   "outputs": [],
   "source": [
    "Num_val = [nm for nm in My_df.columns if My_df[nm].dtypes != 'O']"
   ]
  },
  {
   "cell_type": "code",
   "execution_count": 36,
   "id": "219ba6bb",
   "metadata": {},
   "outputs": [
    {
     "name": "stdout",
     "output_type": "stream",
     "text": [
      "The total number of Numerical variables in the dataset is: 2\n"
     ]
    }
   ],
   "source": [
    "print(f'The total number of Numerical variables in the dataset is: {len(Num_val)}')"
   ]
  },
  {
   "cell_type": "code",
   "execution_count": 37,
   "id": "af8264b3",
   "metadata": {},
   "outputs": [
    {
     "data": {
      "text/html": [
       "<div>\n",
       "<style scoped>\n",
       "    .dataframe tbody tr th:only-of-type {\n",
       "        vertical-align: middle;\n",
       "    }\n",
       "\n",
       "    .dataframe tbody tr th {\n",
       "        vertical-align: top;\n",
       "    }\n",
       "\n",
       "    .dataframe thead th {\n",
       "        text-align: right;\n",
       "    }\n",
       "</style>\n",
       "<table border=\"1\" class=\"dataframe\">\n",
       "  <thead>\n",
       "    <tr style=\"text-align: right;\">\n",
       "      <th></th>\n",
       "      <th>Tax_Year</th>\n",
       "      <th>Agent_Compensation</th>\n",
       "    </tr>\n",
       "  </thead>\n",
       "  <tbody>\n",
       "    <tr>\n",
       "      <th>0</th>\n",
       "      <td>2021.0</td>\n",
       "      <td>NaN</td>\n",
       "    </tr>\n",
       "    <tr>\n",
       "      <th>1</th>\n",
       "      <td>2021.0</td>\n",
       "      <td>2.0</td>\n",
       "    </tr>\n",
       "    <tr>\n",
       "      <th>2</th>\n",
       "      <td>2021.0</td>\n",
       "      <td>2.5</td>\n",
       "    </tr>\n",
       "    <tr>\n",
       "      <th>3</th>\n",
       "      <td>2021.0</td>\n",
       "      <td>2.5</td>\n",
       "    </tr>\n",
       "    <tr>\n",
       "      <th>4</th>\n",
       "      <td>2021.0</td>\n",
       "      <td>2.5</td>\n",
       "    </tr>\n",
       "    <tr>\n",
       "      <th>5</th>\n",
       "      <td>2021.0</td>\n",
       "      <td>2.5</td>\n",
       "    </tr>\n",
       "    <tr>\n",
       "      <th>6</th>\n",
       "      <td>2021.0</td>\n",
       "      <td>2.0</td>\n",
       "    </tr>\n",
       "  </tbody>\n",
       "</table>\n",
       "</div>"
      ],
      "text/plain": [
       "   Tax_Year  Agent_Compensation\n",
       "0    2021.0                 NaN\n",
       "1    2021.0                 2.0\n",
       "2    2021.0                 2.5\n",
       "3    2021.0                 2.5\n",
       "4    2021.0                 2.5\n",
       "5    2021.0                 2.5\n",
       "6    2021.0                 2.0"
      ]
     },
     "execution_count": 37,
     "metadata": {},
     "output_type": "execute_result"
    }
   ],
   "source": [
    "My_df[Num_val].head(7) #This shows the first seven rows of the dataset"
   ]
  },
  {
   "cell_type": "markdown",
   "id": "631c3dae",
   "metadata": {},
   "source": [
    "## Checking for Categorical data"
   ]
  },
  {
   "cell_type": "code",
   "execution_count": 29,
   "id": "eec82d38",
   "metadata": {},
   "outputs": [
    {
     "name": "stdout",
     "output_type": "stream",
     "text": [
      "The total number of Categorical Data in the dataset is: 37\n"
     ]
    }
   ],
   "source": [
    "Cat_data = [cd for cd in My_df.columns if My_df[cd].dtypes == 'O']\n",
    "print(f'The total number of Categorical Data in the dataset is: {len(Cat_data)}')"
   ]
  },
  {
   "cell_type": "code",
   "execution_count": 33,
   "id": "a2f8b78b",
   "metadata": {},
   "outputs": [
    {
     "data": {
      "text/html": [
       "<div>\n",
       "<style scoped>\n",
       "    .dataframe tbody tr th:only-of-type {\n",
       "        vertical-align: middle;\n",
       "    }\n",
       "\n",
       "    .dataframe tbody tr th {\n",
       "        vertical-align: top;\n",
       "    }\n",
       "\n",
       "    .dataframe thead th {\n",
       "        text-align: right;\n",
       "    }\n",
       "</style>\n",
       "<table border=\"1\" class=\"dataframe\">\n",
       "  <thead>\n",
       "    <tr style=\"text-align: right;\">\n",
       "      <th></th>\n",
       "      <th>address</th>\n",
       "      <th>no_of_Bedrooms</th>\n",
       "      <th>no_of_Bathrooms</th>\n",
       "      <th>SqFt</th>\n",
       "      <th>Year Built</th>\n",
       "      <th>parking</th>\n",
       "      <th>Heating</th>\n",
       "      <th>Cooling</th>\n",
       "      <th>assessment</th>\n",
       "      <th>price</th>\n",
       "      <th>...</th>\n",
       "      <th>Satus</th>\n",
       "      <th>Location</th>\n",
       "      <th>Lot_Info</th>\n",
       "      <th>Days_on_Market</th>\n",
       "      <th>Property_Type</th>\n",
       "      <th>Tax_Amount</th>\n",
       "      <th>Image</th>\n",
       "      <th>HOA</th>\n",
       "      <th>Review</th>\n",
       "      <th>More_Reviews</th>\n",
       "    </tr>\n",
       "  </thead>\n",
       "  <tbody>\n",
       "    <tr>\n",
       "      <th>0</th>\n",
       "      <td>390 San Antonio Ave #13San Diego, CA 92106La P...</td>\n",
       "      <td>2 Beds</td>\n",
       "      <td>2 Baths</td>\n",
       "      <td>1,275 sqft</td>\n",
       "      <td>1965</td>\n",
       "      <td>No Info</td>\n",
       "      <td>No Info</td>\n",
       "      <td>No Info</td>\n",
       "      <td>$901,600</td>\n",
       "      <td>$345,000</td>\n",
       "      <td>...</td>\n",
       "      <td>Active</td>\n",
       "      <td>Community: Point Loma</td>\n",
       "      <td>NaN</td>\n",
       "      <td>Days on Market: 44</td>\n",
       "      <td>Property Type: ResidentialProperty Subtype: Co...</td>\n",
       "      <td>NaN</td>\n",
       "      <td>https://www.trulia.com/pictures/thumbs_5/zillo...</td>\n",
       "      <td>None</td>\n",
       "      <td>1/4 Share Ownership Opportunity (up to 3 quart...</td>\n",
       "      <td>At least 16 Trulia users voted on each feature...</td>\n",
       "    </tr>\n",
       "    <tr>\n",
       "      <th>1</th>\n",
       "      <td>3988 Mount Everest BlvdSan Diego, CA 92111Clai...</td>\n",
       "      <td>3 Beds</td>\n",
       "      <td>2 Baths</td>\n",
       "      <td>1,068 sqft</td>\n",
       "      <td>Year Built: 1959</td>\n",
       "      <td>2 Car Garage</td>\n",
       "      <td>NaN</td>\n",
       "      <td>NaN</td>\n",
       "      <td>$555,697</td>\n",
       "      <td>$888,000</td>\n",
       "      <td>...</td>\n",
       "      <td>ACTIVE</td>\n",
       "      <td>Community: Clairemont Mesa West</td>\n",
       "      <td>6000 Square Feet</td>\n",
       "      <td>Days on Market: 4</td>\n",
       "      <td>Property Type: ResidentialProperty Subtype: De...</td>\n",
       "      <td>NaN</td>\n",
       "      <td>https://www.trulia.com/pictures/thumbs_5/zillo...</td>\n",
       "      <td>None</td>\n",
       "      <td>Beautifully tailored remodel located on the so...</td>\n",
       "      <td>At least 39 Trulia users voted on each feature...</td>\n",
       "    </tr>\n",
       "    <tr>\n",
       "      <th>2</th>\n",
       "      <td>277 Deerock PlSan Diego, CA 92114Skyline</td>\n",
       "      <td>3 Beds</td>\n",
       "      <td>2 Baths</td>\n",
       "      <td>1,180 sqft</td>\n",
       "      <td>1962</td>\n",
       "      <td>2 Car Garage</td>\n",
       "      <td>Yes</td>\n",
       "      <td>Yes</td>\n",
       "      <td>$53,510</td>\n",
       "      <td>$598,900</td>\n",
       "      <td>...</td>\n",
       "      <td>ACTIVE</td>\n",
       "      <td>Community: Skyline</td>\n",
       "      <td>9600 Square Feet</td>\n",
       "      <td>Days on Market: 2</td>\n",
       "      <td>Property Type: ResidentialProperty Subtype: De...</td>\n",
       "      <td>NaN</td>\n",
       "      <td>https://www.trulia.com/pictures/thumbs_5/zillo...</td>\n",
       "      <td>None</td>\n",
       "      <td>Beautiful Views of the City, Huge Lot!!!!! Min...</td>\n",
       "      <td>At least 31 Trulia users voted on each feature...</td>\n",
       "    </tr>\n",
       "    <tr>\n",
       "      <th>3</th>\n",
       "      <td>8548 Hopseed LnSan Diego, CA 92129Rancho Penas...</td>\n",
       "      <td>5 Beds</td>\n",
       "      <td>4 Baths</td>\n",
       "      <td>2,710 sqft</td>\n",
       "      <td>1992</td>\n",
       "      <td>3 Car Garage</td>\n",
       "      <td>Yes</td>\n",
       "      <td>Yes</td>\n",
       "      <td>$1,000,000</td>\n",
       "      <td>$1,549,900</td>\n",
       "      <td>...</td>\n",
       "      <td>ACTIVE</td>\n",
       "      <td>Community: Park Village</td>\n",
       "      <td>6602 Square Feet</td>\n",
       "      <td>Days on Market: 2</td>\n",
       "      <td>Property Type: ResidentialProperty Subtype: De...</td>\n",
       "      <td>NaN</td>\n",
       "      <td>https://www.trulia.com/pictures/thumbs_5/zillo...</td>\n",
       "      <td>None</td>\n",
       "      <td>Welcome to Park Village and this rare 5 bed, 4...</td>\n",
       "      <td>At least 243 Trulia users voted on each featur...</td>\n",
       "    </tr>\n",
       "    <tr>\n",
       "      <th>4</th>\n",
       "      <td>3906 C StSan Diego, CA 92102Mt. Hope</td>\n",
       "      <td>3 Beds</td>\n",
       "      <td>2 Baths</td>\n",
       "      <td>912 sqft</td>\n",
       "      <td>Year Built: 1957</td>\n",
       "      <td>Open Parking</td>\n",
       "      <td>NaN</td>\n",
       "      <td>NaN</td>\n",
       "      <td>$119,554</td>\n",
       "      <td>$549,000</td>\n",
       "      <td>...</td>\n",
       "      <td>ACTIVE</td>\n",
       "      <td>Community: San Diego</td>\n",
       "      <td>4309 Square Feet</td>\n",
       "      <td>Days on Market: 3</td>\n",
       "      <td>Property Type: ResidentialProperty Subtype: De...</td>\n",
       "      <td>NaN</td>\n",
       "      <td>https://www.trulia.com/pictures/thumbs_5/zillo...</td>\n",
       "      <td>None</td>\n",
       "      <td>Welcome home! Private 3 bedroom 2 bathroom on ...</td>\n",
       "      <td>At least 16 Trulia users voted on each feature...</td>\n",
       "    </tr>\n",
       "  </tbody>\n",
       "</table>\n",
       "<p>5 rows × 37 columns</p>\n",
       "</div>"
      ],
      "text/plain": [
       "                                             address no_of_Bedrooms  \\\n",
       "0  390 San Antonio Ave #13San Diego, CA 92106La P...         2 Beds   \n",
       "1  3988 Mount Everest BlvdSan Diego, CA 92111Clai...         3 Beds   \n",
       "2           277 Deerock PlSan Diego, CA 92114Skyline         3 Beds   \n",
       "3  8548 Hopseed LnSan Diego, CA 92129Rancho Penas...         5 Beds   \n",
       "4               3906 C StSan Diego, CA 92102Mt. Hope         3 Beds   \n",
       "\n",
       "  no_of_Bathrooms        SqFt        Year Built       parking  Heating  \\\n",
       "0         2 Baths  1,275 sqft              1965       No Info  No Info   \n",
       "1         2 Baths  1,068 sqft  Year Built: 1959  2 Car Garage      NaN   \n",
       "2         2 Baths  1,180 sqft              1962  2 Car Garage      Yes   \n",
       "3         4 Baths  2,710 sqft              1992  3 Car Garage      Yes   \n",
       "4         2 Baths    912 sqft  Year Built: 1957  Open Parking      NaN   \n",
       "\n",
       "   Cooling  assessment       price  ...   Satus  \\\n",
       "0  No Info    $901,600    $345,000  ...  Active   \n",
       "1      NaN    $555,697    $888,000  ...  ACTIVE   \n",
       "2      Yes     $53,510    $598,900  ...  ACTIVE   \n",
       "3      Yes  $1,000,000  $1,549,900  ...  ACTIVE   \n",
       "4      NaN    $119,554    $549,000  ...  ACTIVE   \n",
       "\n",
       "                          Location          Lot_Info      Days_on_Market  \\\n",
       "0            Community: Point Loma               NaN  Days on Market: 44   \n",
       "1  Community: Clairemont Mesa West  6000 Square Feet   Days on Market: 4   \n",
       "2               Community: Skyline  9600 Square Feet   Days on Market: 2   \n",
       "3          Community: Park Village  6602 Square Feet   Days on Market: 2   \n",
       "4             Community: San Diego  4309 Square Feet   Days on Market: 3   \n",
       "\n",
       "                                       Property_Type Tax_Amount  \\\n",
       "0  Property Type: ResidentialProperty Subtype: Co...        NaN   \n",
       "1  Property Type: ResidentialProperty Subtype: De...        NaN   \n",
       "2  Property Type: ResidentialProperty Subtype: De...        NaN   \n",
       "3  Property Type: ResidentialProperty Subtype: De...        NaN   \n",
       "4  Property Type: ResidentialProperty Subtype: De...        NaN   \n",
       "\n",
       "                                               Image   HOA  \\\n",
       "0  https://www.trulia.com/pictures/thumbs_5/zillo...  None   \n",
       "1  https://www.trulia.com/pictures/thumbs_5/zillo...  None   \n",
       "2  https://www.trulia.com/pictures/thumbs_5/zillo...  None   \n",
       "3  https://www.trulia.com/pictures/thumbs_5/zillo...  None   \n",
       "4  https://www.trulia.com/pictures/thumbs_5/zillo...  None   \n",
       "\n",
       "                                              Review  \\\n",
       "0  1/4 Share Ownership Opportunity (up to 3 quart...   \n",
       "1  Beautifully tailored remodel located on the so...   \n",
       "2  Beautiful Views of the City, Huge Lot!!!!! Min...   \n",
       "3  Welcome to Park Village and this rare 5 bed, 4...   \n",
       "4  Welcome home! Private 3 bedroom 2 bathroom on ...   \n",
       "\n",
       "                                        More_Reviews  \n",
       "0  At least 16 Trulia users voted on each feature...  \n",
       "1  At least 39 Trulia users voted on each feature...  \n",
       "2  At least 31 Trulia users voted on each feature...  \n",
       "3  At least 243 Trulia users voted on each featur...  \n",
       "4  At least 16 Trulia users voted on each feature...  \n",
       "\n",
       "[5 rows x 37 columns]"
      ]
     },
     "execution_count": 33,
     "metadata": {},
     "output_type": "execute_result"
    }
   ],
   "source": [
    "My_df[Cat_data].head()"
   ]
  },
  {
   "cell_type": "code",
   "execution_count": 43,
   "id": "c3f8e7ea",
   "metadata": {},
   "outputs": [
    {
     "name": "stdout",
     "output_type": "stream",
     "text": [
      "address 1236\n",
      "no_of_Bedrooms 15\n",
      "no_of_Bathrooms 14\n",
      "SqFt 939\n",
      "Year Built 203\n",
      "parking 34\n",
      "Heating 3\n",
      "Cooling 3\n",
      "assessment 948\n",
      "price 694\n",
      "Price Trend 1113\n",
      "Price/SqFt 842\n",
      "Estimated_Mortgage 883\n",
      "Appliances_and_Utilities 942\n",
      "Fireplace_and_Spa 232\n",
      "Levels_Enrance_and_Accessibility 422\n",
      "Interior_details 65\n",
      "Exterior Features 635\n",
      "Beds_and_Baths 181\n",
      "Dimensions_and_Layout 801\n",
      "Heating_and_Cooling 355\n",
      "Pool 88\n",
      "Security 128\n",
      "Windows_Doors_Floor_Walls 268\n",
      "Parking_and_Garage 660\n",
      "Surface_and_Elevation 52\n",
      "Building 163\n",
      "Satus 8\n",
      "Location 357\n",
      "Lot_Info 630\n",
      "Days_on_Market 174\n",
      "Property_Type 142\n",
      "Tax_Amount 5\n",
      "Image 1218\n",
      "HOA 306\n",
      "Review 1221\n",
      "More_Reviews 130\n"
     ]
    }
   ],
   "source": [
    "for a in Cat_data:\n",
    "    print(a, len(My_df[a].unique()))"
   ]
  },
  {
   "cell_type": "code",
   "execution_count": null,
   "id": "5edc4b65",
   "metadata": {},
   "outputs": [],
   "source": []
  }
 ],
 "metadata": {
  "kernelspec": {
   "display_name": "Python 3",
   "language": "python",
   "name": "python3"
  },
  "language_info": {
   "codemirror_mode": {
    "name": "ipython",
    "version": 3
   },
   "file_extension": ".py",
   "mimetype": "text/x-python",
   "name": "python",
   "nbconvert_exporter": "python",
   "pygments_lexer": "ipython3",
   "version": "3.8.8"
  }
 },
 "nbformat": 4,
 "nbformat_minor": 5
}
